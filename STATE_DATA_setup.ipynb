{
 "cells": [
  {
   "cell_type": "markdown",
   "metadata": {},
   "source": [
    "### STATE_DATA_Setup\n",
    "\n",
    "STATE_DATA project run using\n",
    "\n",
    "Prepares BATCH code to run STATE_DATA project data and analysis.\n",
    "\n",
    "Batch code using BSUB is submitted through BASH terminal\n"
   ]
  },
  {
   "cell_type": "code",
   "execution_count": 1,
   "metadata": {},
   "outputs": [
    {
     "ename": "ImportError",
     "evalue": "cannot import name 'wF' from 'cpq_tools' (c:\\Users\\Daniel\\Files\\SRC\\cpq_tools\\cpq_tools\\__init__.py)",
     "output_type": "error",
     "traceback": [
      "\u001b[1;31m---------------------------------------------------------------------------\u001b[0m",
      "\u001b[1;31mImportError\u001b[0m                               Traceback (most recent call last)",
      "Cell \u001b[1;32mIn[1], line 2\u001b[0m\n\u001b[0;32m      1\u001b[0m \u001b[38;5;66;03m#Import code generation functions\u001b[39;00m\n\u001b[1;32m----> 2\u001b[0m \u001b[38;5;28;01mfrom\u001b[39;00m \u001b[38;5;21;01mcpq_tools\u001b[39;00m \u001b[38;5;28;01mimport\u001b[39;00m wF, generate_bsub_code\n",
      "\u001b[1;31mImportError\u001b[0m: cannot import name 'wF' from 'cpq_tools' (c:\\Users\\Daniel\\Files\\SRC\\cpq_tools\\cpq_tools\\__init__.py)"
     ]
    }
   ],
   "source": [
    "#Import code generation functions\n",
    "from cpq_tools import wF, generate_bsub_code"
   ]
  },
  {
   "cell_type": "code",
   "execution_count": null,
   "metadata": {},
   "outputs": [],
   "source": [
    "project_files = {'processing':'STATE_DATA_PROCESS.py',\n",
    "                'analysis':'STATE_DATA_ANALYSIS.py'}\n",
    "\n",
    "def prepare_bsub(project, code_file):\n",
    "    \"\"\"Generate and save bsub code, returns terminal prompt\n",
    "    Uses generate_bsub_code and wF to generate the full bsub code\n",
    "    Saves .sh to file\n",
    "    \"\"\"\n",
    "    bsub_code = generate_bsub_code(code_file, \n",
    "        job_name = 'project')\n",
    "\n",
    "    outfile = f\"{}.sh\".format(project)\n",
    "\n",
    "    #Write .sh file\n",
    "    wF(outfile, bsub_code)\n",
    "\n",
    "    out_command = f\"BSUB < {outfile}\""
   ]
  },
  {
   "cell_type": "code",
   "execution_count": null,
   "metadata": {},
   "outputs": [],
   "source": []
  }
 ],
 "metadata": {
  "kernelspec": {
   "display_name": "Python 3",
   "language": "python",
   "name": "python3"
  },
  "language_info": {
   "codemirror_mode": {
    "name": "ipython",
    "version": 3
   },
   "file_extension": ".py",
   "mimetype": "text/x-python",
   "name": "python",
   "nbconvert_exporter": "python",
   "pygments_lexer": "ipython3",
   "version": "3.11.5"
  }
 },
 "nbformat": 4,
 "nbformat_minor": 2
}
