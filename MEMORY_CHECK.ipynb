{
 "cells": [
  {
   "cell_type": "code",
   "execution_count": 1,
   "metadata": {},
   "outputs": [
    {
     "name": "stdout",
     "output_type": "stream",
     "text": [
      "Used Memory: 11.02 GB\n",
      "Available Memory: 4.93 GB\n"
     ]
    }
   ],
   "source": [
    "import psutil\n",
    "\n",
    "# Retrieve memory information\n",
    "memory = psutil.virtual_memory()\n",
    "\n",
    "# Calculate used and available memory in gigabytes\n",
    "used_memory = memory.used / (1024**3)  # Convert to GB\n",
    "available_memory = memory.available / (1024**3)  # Convert to GB\n",
    "\n",
    "# Print the memory status\n",
    "print(f\"Used Memory: {used_memory:.2f} GB\")\n",
    "print(f\"Available Memory: {available_memory:.2f} GB\")\n",
    "\n",
    "# GPT-4 \"Code Wizard\" - 20230117\n",
    "\n",
    "# To run this script using nbconvert, use the following command in your terminal:\n",
    "# jupyter nbconvert --to notebook --execute MEMORY_CHECK.ipynb"
   ]
  }
 ],
 "metadata": {
  "kernelspec": {
   "display_name": "Python 3",
   "language": "python",
   "name": "python3"
  },
  "language_info": {
   "codemirror_mode": {
    "name": "ipython",
    "version": 3
   },
   "file_extension": ".py",
   "mimetype": "text/x-python",
   "name": "python",
   "nbconvert_exporter": "python",
   "pygments_lexer": "ipython3",
   "version": "3.11.5"
  }
 },
 "nbformat": 4,
 "nbformat_minor": 2
}
