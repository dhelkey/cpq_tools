{
 "cells": [
  {
   "cell_type": "markdown",
   "metadata": {},
   "source": [
    "## Metadata & Data Processing Workflow\n",
    "\n",
    "Using this package to import project *metadata* and prepare \n",
    "\n"
   ]
  },
  {
   "cell_type": "code",
   "execution_count": 5,
   "metadata": {},
   "outputs": [],
   "source": [
    "#Imports\n",
    "import os\n",
    "import pandas as pd\n",
    "from cpq_tools import process_excel_variable_file"
   ]
  },
  {
   "cell_type": "markdown",
   "metadata": {},
   "source": [
    "#### Metadata\n",
    "Reading in project specific variable keys "
   ]
  },
  {
   "cell_type": "code",
   "execution_count": 6,
   "metadata": {},
   "outputs": [
    {
     "data": {
      "text/html": [
       "<div>\n",
       "<style scoped>\n",
       "    .dataframe tbody tr th:only-of-type {\n",
       "        vertical-align: middle;\n",
       "    }\n",
       "\n",
       "    .dataframe tbody tr th {\n",
       "        vertical-align: top;\n",
       "    }\n",
       "\n",
       "    .dataframe thead th {\n",
       "        text-align: right;\n",
       "    }\n",
       "</style>\n",
       "<table border=\"1\" class=\"dataframe\">\n",
       "  <thead>\n",
       "    <tr style=\"text-align: right;\">\n",
       "      <th></th>\n",
       "      <th>Variable</th>\n",
       "      <th>BCF or PDD</th>\n",
       "      <th>Link - Code Defininitions</th>\n",
       "      <th>Description/Label</th>\n",
       "      <th>Label Code</th>\n",
       "      <th>Type</th>\n",
       "      <th>Format/Length</th>\n",
       "      <th>Values</th>\n",
       "      <th>CA\\n1995-2018</th>\n",
       "      <th>PA\\n1995-2014</th>\n",
       "      <th>SC\\n1996-2020</th>\n",
       "      <th>MI\\n1995-2020</th>\n",
       "      <th>NV\\n2016-2020</th>\n",
       "      <th>OR\\n2008-2020</th>\n",
       "      <th>Fl\\n2002-2003\\n2006-2009\\n2011-2017</th>\n",
       "      <th>VA\\n2010 - 2021</th>\n",
       "      <th>NJ\\n2000-2020</th>\n",
       "      <th>DO NOT USE\\nMO\\n1995-2014</th>\n",
       "    </tr>\n",
       "  </thead>\n",
       "  <tbody>\n",
       "    <tr>\n",
       "      <th>0</th>\n",
       "      <td>abruption</td>\n",
       "      <td>PDD</td>\n",
       "      <td>abruption</td>\n",
       "      <td>Abruption Maternal - Elliot Main Definition</td>\n",
       "      <td>abruption='Abruption Maternal - Elliot Main De...</td>\n",
       "      <td>Num</td>\n",
       "      <td>NaN</td>\n",
       "      <td>1 = Yes\\n0 = No</td>\n",
       "      <td>NaN</td>\n",
       "      <td>NaN</td>\n",
       "      <td>NaN</td>\n",
       "      <td>NaN</td>\n",
       "      <td>NaN</td>\n",
       "      <td>NaN</td>\n",
       "      <td>NaN</td>\n",
       "      <td>NaN</td>\n",
       "      <td>NaN</td>\n",
       "      <td>NaN</td>\n",
       "    </tr>\n",
       "  </tbody>\n",
       "</table>\n",
       "</div>"
      ],
      "text/plain": [
       "    Variable BCF or PDD Link - Code Defininitions  \\\n",
       "0  abruption        PDD                 abruption   \n",
       "\n",
       "                             Description/Label  \\\n",
       "0  Abruption Maternal - Elliot Main Definition   \n",
       "\n",
       "                                          Label Code Type Format/Length  \\\n",
       "0  abruption='Abruption Maternal - Elliot Main De...  Num           NaN   \n",
       "\n",
       "            Values CA\\n1995-2018 PA\\n1995-2014 SC\\n1996-2020 MI\\n1995-2020   \\\n",
       "0  1 = Yes\\n0 = No           NaN           NaN           NaN            NaN   \n",
       "\n",
       "  NV\\n2016-2020 OR\\n2008-2020 Fl\\n2002-2003\\n2006-2009\\n2011-2017  \\\n",
       "0           NaN           NaN                                 NaN   \n",
       "\n",
       "  VA\\n2010 - 2021 NJ\\n2000-2020 DO NOT USE\\nMO\\n1995-2014  \n",
       "0             NaN           NaN                       NaN  "
      ]
     },
     "execution_count": 6,
     "metadata": {},
     "output_type": "execute_result"
    }
   ],
   "source": [
    "#CPQCC\n",
    "\n",
    "# Assuming the Jupyter Notebook is at the root of the cpq_tools package\n",
    "# Adjust the path if your notebook is located elsewhere\n",
    "data_dir = os.path.join(os.getcwd(), 'cpq_tools', 'data')\n",
    "excel_path = os.path.join(data_dir, 'state_data_documentation.xlsx')\n",
    "\n",
    "dat = pd.read_excel(excel_path)\n",
    "dat.head(1)\n"
   ]
  },
  {
   "cell_type": "code",
   "execution_count": 7,
   "metadata": {},
   "outputs": [
    {
     "data": {
      "text/html": [
       "<div>\n",
       "<style scoped>\n",
       "    .dataframe tbody tr th:only-of-type {\n",
       "        vertical-align: middle;\n",
       "    }\n",
       "\n",
       "    .dataframe tbody tr th {\n",
       "        vertical-align: top;\n",
       "    }\n",
       "\n",
       "    .dataframe thead th {\n",
       "        text-align: right;\n",
       "    }\n",
       "</style>\n",
       "<table border=\"1\" class=\"dataframe\">\n",
       "  <thead>\n",
       "    <tr style=\"text-align: right;\">\n",
       "      <th></th>\n",
       "      <th>Variable</th>\n",
       "      <th>Description/Label</th>\n",
       "      <th>Type</th>\n",
       "    </tr>\n",
       "  </thead>\n",
       "  <tbody>\n",
       "    <tr>\n",
       "      <th>0</th>\n",
       "      <td>abruption</td>\n",
       "      <td>Abruption Maternal - Elliot Main Definition</td>\n",
       "      <td>Num</td>\n",
       "    </tr>\n",
       "    <tr>\n",
       "      <th>1</th>\n",
       "      <td>acute_blood_loss_anemia</td>\n",
       "      <td>Acute Blood Loss Anemia - Via Maternal deliver...</td>\n",
       "      <td>Num</td>\n",
       "    </tr>\n",
       "    <tr>\n",
       "      <th>2</th>\n",
       "      <td>admsn_dtI</td>\n",
       "      <td>Admission Date: Infant</td>\n",
       "      <td>Num</td>\n",
       "    </tr>\n",
       "    <tr>\n",
       "      <th>3</th>\n",
       "      <td>admsn_dtM</td>\n",
       "      <td>Admission Date: Mom</td>\n",
       "      <td>Num</td>\n",
       "    </tr>\n",
       "    <tr>\n",
       "      <th>4</th>\n",
       "      <td>agedth_lt28</td>\n",
       "      <td>Age at death Infant ( &lt; 28 Days)</td>\n",
       "      <td>Num</td>\n",
       "    </tr>\n",
       "    <tr>\n",
       "      <th>...</th>\n",
       "      <td>...</td>\n",
       "      <td>...</td>\n",
       "      <td>...</td>\n",
       "    </tr>\n",
       "    <tr>\n",
       "      <th>510</th>\n",
       "      <td>very_preterm_volume</td>\n",
       "      <td>Very Preterm Volume at Delivery Hospital</td>\n",
       "      <td>Num</td>\n",
       "    </tr>\n",
       "    <tr>\n",
       "      <th>511</th>\n",
       "      <td>very_preterm_volume24</td>\n",
       "      <td>Very Preterm Volume at Delivery Hospital- 24 w...</td>\n",
       "      <td>Num</td>\n",
       "    </tr>\n",
       "    <tr>\n",
       "      <th>512</th>\n",
       "      <td>vlbw_volume</td>\n",
       "      <td>VLBW Volume at Delivery Hospital</td>\n",
       "      <td>Num</td>\n",
       "    </tr>\n",
       "    <tr>\n",
       "      <th>513</th>\n",
       "      <td>zipRm</td>\n",
       "      <td>Maternal Zip Code Residence</td>\n",
       "      <td>String</td>\n",
       "    </tr>\n",
       "    <tr>\n",
       "      <th>514</th>\n",
       "      <td>wic</td>\n",
       "      <td>WIC</td>\n",
       "      <td>Num</td>\n",
       "    </tr>\n",
       "  </tbody>\n",
       "</table>\n",
       "<p>515 rows × 3 columns</p>\n",
       "</div>"
      ],
      "text/plain": [
       "                    Variable  \\\n",
       "0                  abruption   \n",
       "1    acute_blood_loss_anemia   \n",
       "2                  admsn_dtI   \n",
       "3                  admsn_dtM   \n",
       "4                agedth_lt28   \n",
       "..                       ...   \n",
       "510      very_preterm_volume   \n",
       "511    very_preterm_volume24   \n",
       "512              vlbw_volume   \n",
       "513                    zipRm   \n",
       "514                      wic   \n",
       "\n",
       "                                     Description/Label    Type  \n",
       "0          Abruption Maternal - Elliot Main Definition     Num  \n",
       "1    Acute Blood Loss Anemia - Via Maternal deliver...     Num  \n",
       "2                               Admission Date: Infant     Num  \n",
       "3                                  Admission Date: Mom     Num  \n",
       "4                     Age at death Infant ( < 28 Days)     Num  \n",
       "..                                                 ...     ...  \n",
       "510           Very Preterm Volume at Delivery Hospital     Num  \n",
       "511  Very Preterm Volume at Delivery Hospital- 24 w...     Num  \n",
       "512                   VLBW Volume at Delivery Hospital     Num  \n",
       "513                        Maternal Zip Code Residence  String  \n",
       "514                                                WIC     Num  \n",
       "\n",
       "[515 rows x 3 columns]"
      ]
     },
     "execution_count": 7,
     "metadata": {},
     "output_type": "execute_result"
    }
   ],
   "source": [
    "variable_description_df, variable_key_dict, variable_description_dict = \\\n",
    "    process_excel_variable_file(excel_path, var_col = 'Variable', \n",
    "                            desc_col = 'Description/Label',\n",
    "                            type_col = 'Type',\n",
    "                            values_col = 'Values')\n",
    "variable_description_dict"
   ]
  },
  {
   "cell_type": "code",
   "execution_count": 9,
   "metadata": {},
   "outputs": [
    {
     "data": {
      "text/plain": [
       "{'Kotelchuck': '',\n",
       " '1': 'Inadequate',\n",
       " '2': 'Intermediate',\n",
       " '3': 'Adequate',\n",
       " '4': 'Adequate Plus',\n",
       " '9': 'Missing Data'}"
      ]
     },
     "execution_count": 9,
     "metadata": {},
     "output_type": "execute_result"
    }
   ],
   "source": [
    "variable_key_dict['kotelchuck']"
   ]
  },
  {
   "cell_type": "code",
   "execution_count": null,
   "metadata": {},
   "outputs": [
    {
     "data": {
      "text/plain": [
       "{}"
      ]
     },
     "execution_count": 5,
     "metadata": {},
     "output_type": "execute_result"
    }
   ],
   "source": [
    "variable_key_dict"
   ]
  },
  {
   "cell_type": "code",
   "execution_count": null,
   "metadata": {},
   "outputs": [],
   "source": [
    "#PENN"
   ]
  },
  {
   "cell_type": "code",
   "execution_count": null,
   "metadata": {},
   "outputs": [],
   "source": [
    "#Reading in keys"
   ]
  },
  {
   "cell_type": "code",
   "execution_count": null,
   "metadata": {},
   "outputs": [],
   "source": [
    "#Ex"
   ]
  }
 ],
 "metadata": {
  "kernelspec": {
   "display_name": "Python 3",
   "language": "python",
   "name": "python3"
  },
  "language_info": {
   "codemirror_mode": {
    "name": "ipython",
    "version": 3
   },
   "file_extension": ".py",
   "mimetype": "text/x-python",
   "name": "python",
   "nbconvert_exporter": "python",
   "pygments_lexer": "ipython3",
   "version": "3.11.5"
  }
 },
 "nbformat": 4,
 "nbformat_minor": 2
}
