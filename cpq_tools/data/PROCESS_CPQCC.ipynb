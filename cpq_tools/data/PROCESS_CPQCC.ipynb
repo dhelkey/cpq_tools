{
 "cells": [
  {
   "cell_type": "code",
   "execution_count": null,
   "metadata": {},
   "outputs": [],
   "source": [
    "#CPQCC Processing Script "
   ]
  },
  {
   "cell_type": "code",
   "execution_count": null,
   "metadata": {},
   "outputs": [],
   "source": [
    "#Metadata processing\n",
    "#Generate excel variable file from documentation file\n",
    "# (e.g. label sections, remove spaces)"
   ]
  }
 ],
 "metadata": {
  "language_info": {
   "name": "python"
  }
 },
 "nbformat": 4,
 "nbformat_minor": 2
}
