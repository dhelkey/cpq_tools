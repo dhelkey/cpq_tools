{
 "cells": [
  {
   "cell_type": "markdown",
   "metadata": {},
   "source": [
    "### STATE_DATA_Run\n",
    "\n",
    "Prepares BATCH code to run STATE_DATA project data and analysis.\n",
    "\n",
    "Batch code using BSUB is submitted through BASH terminal\n"
   ]
  },
  {
   "cell_type": "markdown",
   "metadata": {},
   "source": [
    "New cell test"
   ]
  },
  {
   "cell_type": "code",
   "execution_count": null,
   "metadata": {},
   "outputs": [],
   "source": [
    "#Unzip update code from Github ZIP file/"
   ]
  },
  {
   "cell_type": "code",
   "execution_count": null,
   "metadata": {},
   "outputs": [],
   "source": [
    "%%bash\n",
    "unzip cpq_tools-main.zip 'cpq_tools-main/*' -d ~/ && mv ~/cpq_tools-main/* ~/ && rmdir ~/cpq_tools-main"
   ]
  },
  {
   "cell_type": "code",
   "execution_count": 4,
   "metadata": {},
   "outputs": [],
   "source": [
    "#Import code generation functions\n",
    "from cpq_tools import write_bsub"
   ]
  },
  {
   "cell_type": "code",
   "execution_count": 5,
   "metadata": {},
   "outputs": [],
   "source": [
    "def _project_bsub(project, verbose = False):\n",
    "    \"\"\"Generate BATCH job scheduler .sh files and bsub call for running each part of the project\"\"\"\n",
    "    #Define dictionary of project files\n",
    "    project_files = {'processing':'STATE_DATA_process.py',\n",
    "                'analysis':'STATE_DATA_analysis.py'}\n",
    "    code_file = 'out_dir/' + project_files[project]\n",
    "    bsub_data = write_bsub(project, code_file)\n",
    "    if verbose:\n",
    "        print(bsub_data['bsub_code'])\n",
    "    return(bsub_data['out_command'])\n",
    "    "
   ]
  },
  {
   "cell_type": "code",
   "execution_count": 6,
   "metadata": {},
   "outputs": [
    {
     "name": "stdout",
     "output_type": "stream",
     "text": [
      "#!/bin/bash\n",
      "#BSUB -J processing # LSF Job Name\n",
      "#BSUB -o job_output.%J # Name of the job output file\n",
      "#BSUB -e job_error.%J # Name of the job error file\n",
      "module unload python\n",
      "module load python/3.8\n",
      "python --version\n",
      "python $HOME/out_dir/STATE_DATA_process.py\n",
      "\n"
     ]
    },
    {
     "data": {
      "text/plain": [
       "'BSUB < processing.sh'"
      ]
     },
     "execution_count": 6,
     "metadata": {},
     "output_type": "execute_result"
    }
   ],
   "source": [
    "_project_bsub('processing', verbose=True)"
   ]
  },
  {
   "cell_type": "code",
   "execution_count": 4,
   "metadata": {},
   "outputs": [
    {
     "data": {
      "text/plain": [
       "'BSUB < analysis.sh'"
      ]
     },
     "execution_count": 4,
     "metadata": {},
     "output_type": "execute_result"
    }
   ],
   "source": [
    "_project_bsub('analysis')"
   ]
  }
 ],
 "metadata": {
  "kernelspec": {
   "display_name": "Python 3",
   "language": "python",
   "name": "python3"
  },
  "language_info": {
   "codemirror_mode": {
    "name": "ipython",
    "version": 3
   },
   "file_extension": ".py",
   "mimetype": "text/x-python",
   "name": "python",
   "nbconvert_exporter": "python",
   "pygments_lexer": "ipython3",
   "version": "3.11.5"
  }
 },
 "nbformat": 4,
 "nbformat_minor": 2
}
