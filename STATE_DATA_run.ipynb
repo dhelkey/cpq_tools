{
 "cells": [
  {
   "cell_type": "markdown",
   "metadata": {},
   "source": [
    "### STATE_DATA_Run\n",
    "\n",
    "Prepares BATCH code to run STATE_DATA project data and analysis.\n",
    "\n",
    "Data run in batch mode, to ensure RAM is not a limiting factor for the analysis.\n",
    "\n",
    "## Usage:\n",
    "\n",
    "Initialize project_files with correct Python file names \n",
    "\n",
    "Files should be executable from command line with ```python filename.py```\n",
    "\n",
    "Using _project_bsub, this notebook, for each project:\n",
    "    Generates .SH file to run BATCH job\n",
    "    Returns terminal string (bsub command) to run BATCH job\n",
    "\n",
    "The terminal strings are run manually using a BASH terminal. (This command will not reliably run within Jupyter using ```%%bash``` cell magic)\n"
   ]
  },
  {
   "cell_type": "markdown",
   "metadata": {},
   "source": [
    " Unzip update code from Github ZIP file (download manually)"
   ]
  },
  {
   "cell_type": "markdown",
   "metadata": {},
   "source": [
    "Download [cpq_tools](https://github.com/dhelkey/cpq_tools) manually from Github.\n",
    "\n",
    "**Bash code**\n",
    "\n",
    "Unzip files from Github ZIP file (and remove ZIP file):"
   ]
  },
  {
   "cell_type": "code",
   "execution_count": null,
   "metadata": {},
   "outputs": [],
   "source": [
    "%%bash\n",
    "unzip -q cpq_tools-main.zip 'cpq_tools-main/*' -d ~/ && mv ~/cpq_tools-main/* ~/ && rm ~/cpq_tools-main.zip"
   ]
  },
  {
   "cell_type": "markdown",
   "metadata": {},
   "source": [
    "Remove existing files, in order to update with new code:\n"
   ]
  },
  {
   "cell_type": "code",
   "execution_count": null,
   "metadata": {},
   "outputs": [],
   "source": [
    "%%bash\n",
    "rm -rf ~/cpq_tools-main && rm -rf ~/tests && rm -rf ~/doc && rm -rf ~/STATE_DATA && rm -rf ~/cpq_tools  "
   ]
  },
  {
   "cell_type": "code",
   "execution_count": 4,
   "metadata": {},
   "outputs": [],
   "source": [
    "import os\n",
    "#Import code generation functions\n",
    "from STATE_DATA import generate_bsub_code\n",
    "from cpq_tools import wF"
   ]
  },
  {
   "cell_type": "code",
   "execution_count": null,
   "metadata": {},
   "outputs": [],
   "source": [
    "#FIles to run using BATCH\n",
    "project_files = {\n",
    "            'test':'STATE_DATA_process_test.py',\n",
    "            'process':'STATE_DATA_process.py',\n",
    "            'analysis':'STATE_DATA_analysis.py'}\n",
    "#Please throw error if the variable project is not in the keys above\n",
    "def _project_bsub(project, verbose = False):\n",
    "    '''Run project py files by generating .sh files and BSUB calls\n",
    "This wrapper function uses generate_bsub_code and wF to generate .sh files \n",
    "using the BSUB format, and then generating the bsub call.\n",
    "This call must be input in the terminal manually, does not seem to work\n",
    "from the Jupyter notebook'''\n",
    "    if project not in project_files.keys():\n",
    "        raise KeyError(f\"Project '{project}' not a valid key. \"\n",
    "                       f\"Valid keys: {list(project_files.keys())}\")\n",
    "    py_file = project_files[project]\n",
    "    bsub_code = generate_bsub_code(py_file,\n",
    "                                job_name = project)\n",
    "    if verbose:\n",
    "        print(bsub_code,'')\n",
    "    sh_file = f\"{project}.sh\"\n",
    "    wF(sh_file, bsub_code) #Write .sh file\n",
    "    out_command = f\"[terminal]: bsub < {sh_file}\"\n",
    "    return(out_command)\n"
   ]
  },
  {
   "cell_type": "code",
   "execution_count": 5,
   "metadata": {},
   "outputs": [],
   "source": [
    "for \n",
    "_project_bsub('processing', project_files =project_files,\n",
    "              verbose=True)"
   ]
  },
  {
   "cell_type": "code",
   "execution_count": 6,
   "metadata": {},
   "outputs": [
    {
     "name": "stdout",
     "output_type": "stream",
     "text": [
      "#!/bin/bash\n",
      "#BSUB -J processing # LSF Job Name\n",
      "#BSUB -o job_output.%J # Name of the job output file\n",
      "#BSUB -e job_error.%J # Name of the job error file\n",
      "module unload python\n",
      "module load python/3.8\n",
      "python --version\n",
      "python $HOME/out_dir/STATE_DATA_process.py\n",
      "\n"
     ]
    },
    {
     "data": {
      "text/plain": [
       "'BSUB < processing.sh'"
      ]
     },
     "execution_count": 6,
     "metadata": {},
     "output_type": "execute_result"
    }
   ],
   "source": []
  },
  {
   "cell_type": "code",
   "execution_count": 4,
   "metadata": {},
   "outputs": [
    {
     "data": {
      "text/plain": [
       "'BSUB < analysis.sh'"
      ]
     },
     "execution_count": 4,
     "metadata": {},
     "output_type": "execute_result"
    }
   ],
   "source": [
    "_project_bsub('analysis')"
   ]
  },
  {
   "cell_type": "markdown",
   "metadata": {},
   "source": [
    "EDA with subsampled data"
   ]
  }
 ],
 "metadata": {
  "kernelspec": {
   "display_name": "Python 3",
   "language": "python",
   "name": "python3"
  },
  "language_info": {
   "codemirror_mode": {
    "name": "ipython",
    "version": 3
   },
   "file_extension": ".py",
   "mimetype": "text/x-python",
   "name": "python",
   "nbconvert_exporter": "python",
   "pygments_lexer": "ipython3",
   "version": "3.11.5"
  }
 },
 "nbformat": 4,
 "nbformat_minor": 2
}
