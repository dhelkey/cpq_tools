{
 "cells": [
  {
   "cell_type": "markdown",
   "metadata": {},
   "source": [
    "### STATE_DATA_Run\n",
    "\n",
    "Prepares BATCH code to run STATE_DATA project data and analysis.\n",
    "\n",
    "Usage:\n",
    "Initialize project_files with correct Python file names \n",
    "Files should be executable from command line with ```python filename.py```\n",
    "\n",
    "Using _project_bsub, this notebook, for each project:\n",
    "    Generates .SH file to run BATCH job\n",
    "    Returns terminal string (bsub command) to run BATCH job\n",
    "\n",
    "The terminal strings are run manually using a BASH terminal. (This command will not reliably run using a ```%b%ash``` cell magic in Jupyter)\n"
   ]
  },
  {
   "cell_type": "markdown",
   "metadata": {},
   "source": [
    " Unzip update code from Github ZIP file (download manually)"
   ]
  },
  {
   "cell_type": "code",
   "execution_count": null,
   "metadata": {},
   "outputs": [],
   "source": [
    "%%bash\n",
    "unzip cpq_tools-main.zip 'cpq_tools-main/*' -d ~/ && mv ~/cpq_tools-main/* ~/ && rm -rf ~/cpq_tools-main && rm -rf ~/tests && rm ~/cpq_tools-main.zip"
   ]
  },
  {
   "cell_type": "code",
   "execution_count": 4,
   "metadata": {},
   "outputs": [],
   "source": [
    "#Import code generation functions\n",
    "from cpq_tools import write_bsub"
   ]
  },
  {
   "cell_type": "code",
   "execution_count": 5,
   "metadata": {},
   "outputs": [],
   "source": [
    "def _project_bsub(project, verbose = False):\n",
    "    \"\"\"Generate BATCH job scheduler .sh files and bsub call for running each part of the project\"\"\"\n",
    "    #Define dictionary of project files\n",
    "    project_files = {'processing':'STATE_DATA_process.py',\n",
    "                'analysis':'STATE_DATA_analysis.py'}\n",
    "    code_file = 'out_dir/' + project_files[project]\n",
    "    bsub_data = write_bsub(project, code_file)\n",
    "    if verbose:\n",
    "        print(bsub_data['bsub_code'])\n",
    "    return(bsub_data['out_command'])\n",
    "    "
   ]
  },
  {
   "cell_type": "code",
   "execution_count": 6,
   "metadata": {},
   "outputs": [
    {
     "name": "stdout",
     "output_type": "stream",
     "text": [
      "#!/bin/bash\n",
      "#BSUB -J processing # LSF Job Name\n",
      "#BSUB -o job_output.%J # Name of the job output file\n",
      "#BSUB -e job_error.%J # Name of the job error file\n",
      "module unload python\n",
      "module load python/3.8\n",
      "python --version\n",
      "python $HOME/out_dir/STATE_DATA_process.py\n",
      "\n"
     ]
    },
    {
     "data": {
      "text/plain": [
       "'BSUB < processing.sh'"
      ]
     },
     "execution_count": 6,
     "metadata": {},
     "output_type": "execute_result"
    }
   ],
   "source": [
    "_project_bsub('processing', verbose=True)"
   ]
  },
  {
   "cell_type": "code",
   "execution_count": 4,
   "metadata": {},
   "outputs": [
    {
     "data": {
      "text/plain": [
       "'BSUB < analysis.sh'"
      ]
     },
     "execution_count": 4,
     "metadata": {},
     "output_type": "execute_result"
    }
   ],
   "source": [
    "_project_bsub('analysis')"
   ]
  }
 ],
 "metadata": {
  "kernelspec": {
   "display_name": "Python 3",
   "language": "python",
   "name": "python3"
  },
  "language_info": {
   "codemirror_mode": {
    "name": "ipython",
    "version": 3
   },
   "file_extension": ".py",
   "mimetype": "text/x-python",
   "name": "python",
   "nbconvert_exporter": "python",
   "pygments_lexer": "ipython3",
   "version": "3.11.5"
  }
 },
 "nbformat": 4,
 "nbformat_minor": 2
}
